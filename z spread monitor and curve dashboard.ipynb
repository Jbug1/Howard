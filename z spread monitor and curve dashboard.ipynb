{
 "cells": [
  {
   "cell_type": "code",
   "execution_count": 198,
   "metadata": {
    "collapsed": true
   },
   "outputs": [],
   "source": [
    "import numpy as np\n",
    "import matplotlib.pyplot as plt\n",
    "import scipy as sp\n",
    "import pandas as pd\n",
    "import copy\n",
    "% matplotlib inline"
   ]
  },
  {
   "cell_type": "code",
   "execution_count": 2,
   "metadata": {
    "collapsed": true
   },
   "outputs": [],
   "source": [
    "class bondcurve: #should probably set up for BRZ, VAle, braskm, gerdau, suzano. Highly rated BRZ\n",
    "    \n",
    "    yield_dictbid=dict() #just use year as maturity for now\n",
    "    z_spdsbid=dict()\n",
    "    \n",
    "    yield_dictoff=dict() #set up as bid and offer rn though this is probably an unnecessary level of specificity\n",
    "    z_spdsoff=dict()\n",
    "    \n",
    "    name=str()"
   ]
  },
  {
   "cell_type": "code",
   "execution_count": 154,
   "metadata": {},
   "outputs": [
    {
     "name": "stdout",
     "output_type": "stream",
     "text": [
      "[30, 27, 21, 22]\n"
     ]
    }
   ],
   "source": [
    "valebz=bondcurve()\n",
    "valebz.name='valebz'\n",
    "gerdau=bondcurve()\n",
    "gerdau.name='gerdau'\n",
    "brz=bondcurve()\n",
    "brz.name='brazil'\n",
    "valebz.zspds_bid={21:3.0,28:4.023, 30:4.501}\n",
    "gerdau.zspds_bid={21:3.2,27:4.0, 32:4.68}\n",
    "brz.zspds_bid={21:2.5,22: 2.6, 27:4.0,30:4.6}\n",
    "corps=[valebz,gerdau]\n",
    "print(brz.zspds_bid.keys())"
   ]
  },
  {
   "cell_type": "code",
   "execution_count": 184,
   "metadata": {},
   "outputs": [],
   "source": [
    "def z_spread_monitor(corplist,sov, bidask): \n",
    "    \n",
    "    sov_years=sov.zspds_bid.keys() #years that are available for sovereign years for zspd\n",
    "    biglist=list() # will fill with differential dict by corporate\n",
    "    sov_dict=dict()\n",
    "    \n",
    "    for year in sov_years:\n",
    "        sov_dict['Ticker']=sov.name\n",
    "        sov_dict['Differential']=0.0\n",
    "        sov_dict['Maturity']=year\n",
    "        sov_dict['z-spread']=sov.zspds_bid[year]\n",
    "        \n",
    "        biglist.append(sov_dict.copy())\n",
    "        \n",
    "    for item in corplist:\n",
    "        corp_years=item.zspds_bid.keys() #list of maturity years of corp bonds\n",
    "        mat_dict=dict() #list to populate with differentials, and maturities, will become full dict for row\n",
    "        \n",
    "        for year in corp_years: #should return dictionary of differentials by year\n",
    "            corp_z= item.zspds_bid[year] #return z spread for selected year\n",
    "            \n",
    "            \n",
    "            if year in sov_years:  #needs matching sov maturity\n",
    "                sov_z= sov.zspds_bid[year]\n",
    "                dif_z= corp_z-sov_z # will be positive if corp trades wide to sov\n",
    "                \n",
    "            elif year not in sov_years:\n",
    "                substitute_year=closest_year(year,sov_years)\n",
    "                dif_z=corp_z-sov.zspds_bid[substitute_year]\n",
    "                \n",
    "            mat_dict['Ticker']=item.name\n",
    "            mat_dict['Differential']=dif_z\n",
    "            mat_dict['Maturity']=year\n",
    "            mat_dict['z-spread']=corp_z\n",
    "                \n",
    "            \n",
    "            biglist.append(mat_dict.copy()) #add dictionary of differentials by year to biglist\n",
    "            \n",
    "    return(biglist)\n",
    "            \n",
    "def total_year_list(sov,corplist): #takes sov bond object and corplist and returns sorted list of all maturities\n",
    "    \n",
    "    total_years=sov.zspds_bid.keys()[:]\n",
    "    \n",
    "    for bondcurve in corplist:\n",
    "        \n",
    "        maturities=bondcurve.zspds_bid.keys()[:]\n",
    "        \n",
    "        for maturity in maturities:\n",
    "            if maturity not in total_years:\n",
    "                total_years.append(maturity)\n",
    "    \n",
    "    total_years=sorted(total_years)\n",
    "    return (total_years)\n",
    "                \n",
    "def closest_year(year, year_list):\n",
    "    \n",
    "    year_dif=abs(year-year_list[0])\n",
    "    close_year=int()\n",
    "    \n",
    "    \n",
    "    for item in year_list:\n",
    "        new_dif=year-item\n",
    "        \n",
    "        \n",
    "        if abs(new_dif)<=year_dif:\n",
    "            year_dif=abs(new_dif)\n",
    "            close_year=item\n",
    "    \n",
    "    return(close_year)\n",
    "\n",
    "def z_dict_to_df (corp_list, sov, bidask, order_columns): # will call z_spread_monitor function. order_columns is list\n",
    "    \n",
    "    df_input=z_spread_monitor(corp_list, sov, bidask)\n",
    "    mydf=pd.DataFrame(df_input)\n",
    "    mydf=mydf.sort_values(by=order_columns)\n",
    "    mydf=mydf[['Maturity', 'Ticker', 'z-spread','Differential']]\n",
    "    return(mydf)\n",
    "\n",
    "def graph_curves(curve_list):\n",
    "    \n",
    "    for item in curve_list:\n",
    "        plt.scatter(item.zspds_bid.keys(),item.zspds_bid.values(),label=item.name)\n",
    "        \n",
    "        \n",
    "    plt.ylabel=('z-spread')\n",
    "    plt.xlabel('maturity')\n",
    "    plt.legend()\n",
    "    plt.show()\n"
   ]
  },
  {
   "cell_type": "code",
   "execution_count": 185,
   "metadata": {},
   "outputs": [
    {
     "data": {
      "text/html": [
       "<div>\n",
       "<style>\n",
       "    .dataframe thead tr:only-child th {\n",
       "        text-align: right;\n",
       "    }\n",
       "\n",
       "    .dataframe thead th {\n",
       "        text-align: left;\n",
       "    }\n",
       "\n",
       "    .dataframe tbody tr th {\n",
       "        vertical-align: top;\n",
       "    }\n",
       "</style>\n",
       "<table border=\"1\" class=\"dataframe\">\n",
       "  <thead>\n",
       "    <tr style=\"text-align: right;\">\n",
       "      <th></th>\n",
       "      <th>Maturity</th>\n",
       "      <th>Ticker</th>\n",
       "      <th>z-spread</th>\n",
       "      <th>Differential</th>\n",
       "    </tr>\n",
       "  </thead>\n",
       "  <tbody>\n",
       "    <tr>\n",
       "      <th>2</th>\n",
       "      <td>21</td>\n",
       "      <td>brazil</td>\n",
       "      <td>2.500</td>\n",
       "      <td>0.000</td>\n",
       "    </tr>\n",
       "    <tr>\n",
       "      <th>9</th>\n",
       "      <td>21</td>\n",
       "      <td>gerdau</td>\n",
       "      <td>3.200</td>\n",
       "      <td>0.700</td>\n",
       "    </tr>\n",
       "    <tr>\n",
       "      <th>5</th>\n",
       "      <td>21</td>\n",
       "      <td>valebz</td>\n",
       "      <td>3.000</td>\n",
       "      <td>0.500</td>\n",
       "    </tr>\n",
       "    <tr>\n",
       "      <th>3</th>\n",
       "      <td>22</td>\n",
       "      <td>brazil</td>\n",
       "      <td>2.600</td>\n",
       "      <td>0.000</td>\n",
       "    </tr>\n",
       "    <tr>\n",
       "      <th>1</th>\n",
       "      <td>27</td>\n",
       "      <td>brazil</td>\n",
       "      <td>4.000</td>\n",
       "      <td>0.000</td>\n",
       "    </tr>\n",
       "    <tr>\n",
       "      <th>8</th>\n",
       "      <td>27</td>\n",
       "      <td>gerdau</td>\n",
       "      <td>4.000</td>\n",
       "      <td>0.000</td>\n",
       "    </tr>\n",
       "    <tr>\n",
       "      <th>4</th>\n",
       "      <td>28</td>\n",
       "      <td>valebz</td>\n",
       "      <td>4.023</td>\n",
       "      <td>0.023</td>\n",
       "    </tr>\n",
       "    <tr>\n",
       "      <th>0</th>\n",
       "      <td>30</td>\n",
       "      <td>brazil</td>\n",
       "      <td>4.600</td>\n",
       "      <td>0.000</td>\n",
       "    </tr>\n",
       "    <tr>\n",
       "      <th>6</th>\n",
       "      <td>30</td>\n",
       "      <td>valebz</td>\n",
       "      <td>4.501</td>\n",
       "      <td>-0.099</td>\n",
       "    </tr>\n",
       "    <tr>\n",
       "      <th>7</th>\n",
       "      <td>32</td>\n",
       "      <td>gerdau</td>\n",
       "      <td>4.680</td>\n",
       "      <td>0.080</td>\n",
       "    </tr>\n",
       "  </tbody>\n",
       "</table>\n",
       "</div>"
      ],
      "text/plain": [
       "   Maturity  Ticker  z-spread  Differential\n",
       "2        21  brazil     2.500         0.000\n",
       "9        21  gerdau     3.200         0.700\n",
       "5        21  valebz     3.000         0.500\n",
       "3        22  brazil     2.600         0.000\n",
       "1        27  brazil     4.000         0.000\n",
       "8        27  gerdau     4.000         0.000\n",
       "4        28  valebz     4.023         0.023\n",
       "0        30  brazil     4.600         0.000\n",
       "6        30  valebz     4.501        -0.099\n",
       "7        32  gerdau     4.680         0.080"
      ]
     },
     "execution_count": 185,
     "metadata": {},
     "output_type": "execute_result"
    }
   ],
   "source": [
    "#need to finish z-spd monitor. challenge will be grabbing closest sov yr for z_spd. Iterate through sov yrs and find\n",
    "    # smallest differential. Also graph all curves and prime system for maintaining over time. Also evaluating spreads over time\n",
    "    \n",
    "z_dict_to_df(corps, brz,'bid',['Maturity','Ticker'])\n"
   ]
  },
  {
   "cell_type": "code",
   "execution_count": 236,
   "metadata": {},
   "outputs": [
    {
     "name": "stdout",
     "output_type": "stream",
     "text": [
      "<type 'list'>\n"
     ]
    },
    {
     "data": {
      "image/png": "[encoded data removed]",
      "text/plain": [
       "<matplotlib.figure.Figure at 0x1189c4fd0>"
      ]
     },
     "metadata": {},
     "output_type": "display_data"
    }
   ],
   "source": [
    "graph_curves(corps)"
   ]
  },
  {
   "cell_type": "code",
   "execution_count": null,
   "metadata": {},
   "outputs": [],
   "source": []
  },
  {
   "cell_type": "code",
   "execution_count": null,
   "metadata": {},
   "outputs": [],
   "source": []
  },
  {
   "cell_type": "code",
   "execution_count": null,
   "metadata": {},
   "outputs": [],
   "source": []
  },
  {
   "cell_type": "code",
   "execution_count": null,
   "metadata": {},
   "outputs": [],
   "source": []
  },
  {
   "cell_type": "code",
   "execution_count": null,
   "metadata": {
    "collapsed": true
   },
   "outputs": [],
   "source": []
  }
 ],
 "metadata": {
  "kernelspec": {
   "display_name": "Python 2",
   "language": "python",
   "name": "python2"
  },
  "language_info": {
   "codemirror_mode": {
    "name": "ipython",
    "version": 2
   },
   "file_extension": ".py",
   "mimetype": "text/x-python",
   "name": "python",
   "nbconvert_exporter": "python",
   "pygments_lexer": "ipython2",
   "version": "2.7.13"
  }
 },
 "nbformat": 4,
 "nbformat_minor": 2
}
