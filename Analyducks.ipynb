{
 "cells": [
  {
   "cell_type": "code",
   "execution_count": 14,
   "metadata": {},
   "outputs": [],
   "source": [
    "import pandas as pd\n",
    "\n",
    "plays=[[1,1,2,'nan','run out'],[1,1,3,'nan','run out'],[1,1,2,'nan','run out'],[1,1,0,'nan','inc pass'],[1,1,0,'nan','inc pass'],[2,'2wa',1,'nan','comp'],[2,'2we',0,'nan','int'],[1,2,1,'nan','pass mid'],[1,2,1,'nan','pass mid'],[1,2,2,'nan','pass mid'],[1,2,3,'nan','pass out'],[1,2,1,'nan','run in'],[1,2,3,'nan','pass out'],[1,1,1,'nan','pass out'],[2,'2wg',0,'gorman','inc'],[2,'2wc',-1,'grace','tfl'],[2,'1wb',-1,'patton','sack'],[1,1,0,'meg','pass break'],[1,1,0,'nan','inc'],[1,1,1,'tiana','run mid'],[1,1,3,'nan','pass deep'],[1,2,0,'bev','int'],[2,'2we',2,'gorman','comp'],[2,'2wg',2,'gorman','comp'],[2,'1we',1,'gorman','comp'],[2,'1wk',0,'rachel','inc'],[2,'wb',0,'gorman','comp'],[1,1,3,'nan','qb run'],[1,1,3,'nan','pass deep'],[1,1,0,'nan','inc'],[1,1,1,'nan','pass out'],[1,1,1,'nan','pass out'],[2,'2wg',1,'gorman','comp'],[2,'2wf',0,'patton','int'],[2,'2we',0,'rachel','inc'],[2,'2wb',3,'gorman','comp'],[2,'2wa',0,'nan','inc'],[2,'2we',2,'ally','comp'],[2,'2wg',0,'patton','int'],[1,1,3,'nan','run out'],[1,1,0,'bev','pass break'],[1,1,-1,'foobert','sack'],[1,1,0,'nan','inc'],[1,1,-1,'foobert','sack'],[1,2,0,'bev','pass break'],[2,'wd',3,'gorman','tuddy'],[2,'2we',1,'nan','inc'],[1,1,2,'nan','pass mid'],[1,1,-1,'hannah','run mid'],[1,1,-1,'hannah','sack'],[1,1,0,'foobert','inc'],[2,'wa',2,'rachel','comp'],[2,'wbz',2,'gorman','comp'],[2,'wc',0,'grace','nan'],[2,'2wi',0,'kristen','inc'],[2,'2wf',2,'gorman','pi'],[2,'2wbz',0,'gorman','nan'],[2,'2wi',-1,'patton','sack'], [2,'1wc',2,'gorman','comp'],[2,'1wk',0,'rachel','inc'],[2,'2wf',0,'nan','inc'],[2,'wa',0,'gorman','nan'],[2,'wd',0,'gorman','pen'],[2,'new',0,'nan','inc'],[1,1,-1,'hannah','run out'],[1,1,3,'bev','pass out'],[1,1,1,'caroline','run mid'],[1,1,-1,'hannah','run out']]\n",
    "\n",
    "def list_breaker(list,unit):\n",
    "    olist=[]\n",
    "    dlist=[]\n",
    "    for item in list:\n",
    "        if item[0]==1:\n",
    "            dlist.append (item[1:])\n",
    "        elif item[0]==2:\n",
    "            olist.append(item[1:])\n",
    "    if unit=='o':\n",
    "        return (olist)\n",
    "    else:\n",
    "        return (dlist)\n",
    "\n",
    "def scrubber(list):\n",
    "    ticker=0\n",
    "    for item in list:\n",
    "        ticker +=1\n",
    "        if len(item)!=5:\n",
    "            print ('error at %d' %(ticker))\n",
    "            print (item)\n",
    "\n",
    "offense=list_breaker(plays,'o')\n",
    "defense=list_breaker(plays,'d')\n",
    "\n",
    "Offense_DF=pd.DataFrame(offense,columns=['Play_Call','Yard_Category','Key_Player','Description'])\n",
    "Defense_DF=pd.DataFrame(defense,columns=['Formation','Yard_Category','Key_Player','Description'])\n",
    "\n",
    "sorted_offense=Offense_DF.sort_values('Play_Call')\n",
    "sorted_defense=Defense_DF.sort_values('Formation')\n",
    "\n",
    "def big_grouper(df,group_column,output_column):\n",
    "    group_list=[]\n",
    "    for index, row in df.iterrows():\n",
    "        if row[group_column] not in group_list:\n",
    "            group_list.append(row[group_column])\n",
    "    for item in group_list:\n",
    "        yardlist=[]\n",
    "        for index, row in df.iterrows():\n",
    "            if row[group_column]==item:\n",
    "                yardlist.append(row[output_column])\n",
    "        avg = float(sum(yardlist)) / len(yardlist)\n",
    "        print( item,yardlist, 'average yards:',avg)"
   ]
  },
  {
   "cell_type": "code",
   "execution_count": 7,
   "metadata": {},
   "outputs": [
    {
     "name": "stdout",
     "output_type": "stream",
     "text": [
      "   Play_Call  Yard_Category Key_Player Description\n",
      "4        1wb             -1     patton        sack\n",
      "26       1wc              2     gorman        comp\n",
      "7        1we              1     gorman        comp\n",
      "27       1wk              0     rachel         inc\n",
      "8        1wk              0     rachel         inc\n",
      "0        2wa              1        nan        comp\n",
      "14       2wa              0        nan         inc\n",
      "13       2wb              3     gorman        comp\n",
      "24      2wbz              0     gorman         nan\n",
      "3        2wc             -1      grace         tfl\n",
      "18       2we              1        nan         inc\n",
      "12       2we              0     rachel         inc\n",
      "15       2we              2       ally        comp\n",
      "1        2we              0        nan         int\n",
      "5        2we              2     gorman        comp\n",
      "28       2wf              0        nan         inc\n",
      "23       2wf              2     gorman          pi\n",
      "11       2wf              0     patton         int\n",
      "10       2wg              1     gorman        comp\n",
      "16       2wg              0     patton         int\n",
      "2        2wg              0     gorman         inc\n",
      "6        2wg              2     gorman        comp\n",
      "25       2wi             -1     patton        sack\n",
      "22       2wi              0    kristen         inc\n",
      "31       new              0        nan         inc\n",
      "19        wa              2     rachel        comp\n",
      "29        wa              0     gorman         nan\n",
      "9         wb              0     gorman        comp\n",
      "20       wbz              2     gorman        comp\n",
      "21        wc              0      grace         nan\n",
      "17        wd              3     gorman       tuddy\n",
      "30        wd              0     gorman         pen\n"
     ]
    }
   ],
   "source": [
    "print (sorted_offense)"
   ]
  },
  {
   "cell_type": "code",
   "execution_count": 8,
   "metadata": {},
   "outputs": [
    {
     "name": "stdout",
     "output_type": "stream",
     "text": [
      "    Formation  Yard_Category Key_Player Description\n",
      "0           1              2        nan     run out\n",
      "19          1              0        nan         inc\n",
      "20          1              1        nan    pass out\n",
      "21          1              1        nan    pass out\n",
      "22          1              3        nan     run out\n",
      "23          1              0        bev  pass break\n",
      "24          1             -1    foobert        sack\n",
      "18          1              3        nan   pass deep\n",
      "25          1              0        nan         inc\n",
      "28          1              2        nan    pass mid\n",
      "29          1             -1     hannah     run mid\n",
      "30          1             -1     hannah        sack\n",
      "31          1              0    foobert         inc\n",
      "32          1             -1     hannah     run out\n",
      "33          1              3        bev    pass out\n",
      "26          1             -1    foobert        sack\n",
      "34          1              1   caroline     run mid\n",
      "17          1              3        nan      qb run\n",
      "15          1              3        nan   pass deep\n",
      "1           1              3        nan     run out\n",
      "2           1              2        nan     run out\n",
      "3           1              0        nan    inc pass\n",
      "4           1              0        nan    inc pass\n",
      "35          1             -1     hannah     run out\n",
      "11          1              1        nan    pass out\n",
      "12          1              0        meg  pass break\n",
      "13          1              0        nan         inc\n",
      "14          1              1      tiana     run mid\n",
      "9           2              1        nan      run in\n",
      "8           2              3        nan    pass out\n",
      "16          2              0        bev         int\n",
      "27          2              0        bev  pass break\n",
      "6           2              1        nan    pass mid\n",
      "5           2              1        nan    pass mid\n",
      "10          2              3        nan    pass out\n",
      "7           2              2        nan    pass mid\n"
     ]
    }
   ],
   "source": [
    "print (sorted_defense)"
   ]
  },
  {
   "cell_type": "code",
   "execution_count": 15,
   "metadata": {},
   "outputs": [
    {
     "name": "stdout",
     "output_type": "stream",
     "text": [
      "2wa [1, 0] average yards: 0.5\n",
      "2we [0, 2, 0, 2, 1] average yards: 1.0\n",
      "2wg [0, 2, 1, 0] average yards: 0.75\n",
      "2wc [-1] average yards: -1.0\n",
      "1wb [-1] average yards: -1.0\n",
      "1we [1] average yards: 1.0\n",
      "1wk [0, 0] average yards: 0.0\n",
      "wb [0] average yards: 0.0\n",
      "2wf [0, 2, 0] average yards: 0.6666666666666666\n",
      "2wb [3] average yards: 3.0\n",
      "wd [3, 0] average yards: 1.5\n",
      "wa [2, 0] average yards: 1.0\n",
      "wbz [2] average yards: 2.0\n",
      "wc [0] average yards: 0.0\n",
      "2wi [0, -1] average yards: -0.5\n",
      "2wbz [0] average yards: 0.0\n",
      "1wc [2] average yards: 2.0\n",
      "new [0] average yards: 0.0\n"
     ]
    }
   ],
   "source": [
    "big_grouper(Offense_DF,'Play_Call','Yard_Category')"
   ]
  },
  {
   "cell_type": "code",
   "execution_count": 16,
   "metadata": {},
   "outputs": [
    {
     "name": "stdout",
     "output_type": "stream",
     "text": [
      "1 [2, 3, 2, 0, 0, 1, 0, 0, 1, 3, 3, 3, 0, 1, 1, 3, 0, -1, 0, -1, 2, -1, -1, 0, -1, 3, 1, -1] average yards: 0.8214285714285714\n",
      "2 [1, 1, 2, 3, 1, 3, 0, 0] average yards: 1.375\n"
     ]
    }
   ],
   "source": [
    "big_grouper(Defense_DF,'Formation','Yard_Category')"
   ]
  },
  {
   "cell_type": "code",
   "execution_count": 17,
   "metadata": {},
   "outputs": [
    {
     "name": "stdout",
     "output_type": "stream",
     "text": [
      "nan [1, 0, 0, 1, 0, 0] average yards: 0.3333333333333333\n",
      "gorman [0, 2, 2, 1, 0, 1, 3, 3, 2, 2, 0, 2, 0, 0] average yards: 1.2857142857142858\n",
      "grace [-1, 0] average yards: -0.5\n",
      "patton [-1, 0, 0, -1] average yards: -0.5\n",
      "rachel [0, 0, 2, 0] average yards: 0.5\n",
      "ally [2] average yards: 2.0\n",
      "kristen [0] average yards: 0.0\n"
     ]
    }
   ],
   "source": [
    "big_grouper(Offense_DF,'Key_Player','Yard_Category')"
   ]
  },
  {
   "cell_type": "code",
   "execution_count": null,
   "metadata": {
    "collapsed": true
   },
   "outputs": [],
   "source": []
  }
 ],
 "metadata": {
  "kernelspec": {
   "display_name": "Python 3",
   "language": "python",
   "name": "python3"
  },
  "language_info": {
   "codemirror_mode": {
    "name": "ipython",
    "version": 3
   },
   "file_extension": ".py",
   "mimetype": "text/x-python",
   "name": "python",
   "nbconvert_exporter": "python",
   "pygments_lexer": "ipython3",
   "version": "3.6.1"
  }
 },
 "nbformat": 4,
 "nbformat_minor": 2
}
